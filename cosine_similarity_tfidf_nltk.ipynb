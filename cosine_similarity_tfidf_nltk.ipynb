{
 "cells": [
  {
   "cell_type": "code",
   "execution_count": 2,
   "metadata": {
    "collapsed": true
   },
   "outputs": [],
   "source": [
    "import nltk\n",
    "import string\n",
    "\n",
    "# used for looping through folders/files\n",
    "from os import listdir\n",
    "from os.path import isfile, join\n",
    "\n",
    "#Calc tfidf and cosine similarity\n",
    "from sklearn.feature_extraction.text import TfidfVectorizer\n",
    "from sklearn.metrics.pairwise import cosine_similarity"
   ]
  },
  {
   "cell_type": "code",
   "execution_count": 26,
   "metadata": {
    "collapsed": true
   },
   "outputs": [],
   "source": [
    "# All text entries to compare will appear here\n",
    "BASE_INPUT_DIR = \"./inputdata/\""
   ]
  },
  {
   "cell_type": "markdown",
   "metadata": {},
   "source": [
    "## Preprocess Data"
   ]
  },
  {
   "cell_type": "markdown",
   "metadata": {},
   "source": [
    "#### File information"
   ]
  },
  {
   "cell_type": "code",
   "execution_count": 31,
   "metadata": {},
   "outputs": [
    {
     "name": "stdout",
     "output_type": "stream",
     "text": [
      "['100554newsML.txt', '100593newsML.txt', '100618newsML.txt', '130040newsML.txt', '137871newsML.txt'] \n",
      " ['./inputdata/100554newsML.txt', './inputdata/100593newsML.txt', './inputdata/100618newsML.txt', './inputdata/130040newsML.txt', './inputdata/137871newsML.txt']\n"
     ]
    }
   ],
   "source": [
    "def returnListOfFilePaths(folderPath):\n",
    "    fileInfo = []\n",
    "    listOfFileNames = [ fileName for fileName in listdir(folderPath) if isfile(join(folderPath, fileName)) ]\n",
    "    listOfFilePaths = [ join(folderPath, fileName) for fileName in listdir(folderPath) if isfile(join(folderPath, fileName)) ]\n",
    "    fileInfo.append(listOfFileNames)\n",
    "    fileInfo.append(listOfFilePaths)\n",
    "    return fileInfo\n",
    "\n",
    "fileNames, filePaths = returnListOfFilePaths(BASE_INPUT_DIR)\n",
    "print(fileNames, \"\\n\", filePaths)"
   ]
  },
  {
   "cell_type": "code",
   "execution_count": 35,
   "metadata": {},
   "outputs": [
    {
     "name": "stdout",
     "output_type": "stream",
     "text": [
      "{'./inputdata/100554newsML.txt': 'Channel tunnel operator Eurotunnel on Monday announced details of a deal giving bank creditors 45.5 percent of the company in return for wiping out 1.0 billion pounds ($1.6 billion) of its massive debts.\\nThe long-awaited but highly complex restructuring of nearly nearly nine billion pounds of debt and unpaid interest throws the company a lifeline which could secure what is still likely to be a difficult future.\\nThe deal, announced simultaneously in Paris and London, brings the company back from the brink of bankruptcy but leaves current shareholders, who have already seen their investment dwindle, owning only 54.5 percent of the company.\\n\"We have fixed and capped the interest payments and arranged only to pay what is available in cash,\" Eurotunnel co-chairman Alastair Morton told reporters at a news conference. \"Avoiding having to do this again is the name of the game.\"\\nMorton said the plan provides the Anglo-French company with the medium term financial stability to consolidate its commercial position and develop its operations, adding that the firm was now making a profit before interest.\\nAlthough shareholders will see their holdings diluted, they were offered the prospect of a brighter future and urged to be patient after months of uncertainty while Eurotunnel wrestled to reduce the crippling interest payments negotiated during the tunnel\\'s construction.\\nEurotunnel, which has taken around half of the market in the busiest cross-Channel route from the European ferry companies, said a strong operating performance could allow it to pay its first dividend within the next 10 years.\\nFrench co-chairman Patrick Ponsolle told reporters at a Paris news conference that the dividend could come as early as 2004 if the company performed \"very well\".\\nEurotunnel and the banks have come up with an ingenious formula to help the company get over the early years of the deal when, despite the swaps of debt for equity and bonds, it will still not be able to afford the annual interest bill of 400 million pounds.\\nIf its revenue, after costs and depreciation, is less than 400 million pounds, then the company will issue \"Stabilisation notes\" to a maximum of 1.85 billion pounds to the banks. Eurotunnel would not pay interest on these notes (which would constitute a debt issue) for ten years.\\nAnalysts said that under the deal, Eurotunnel\\'s ability to finance its debt would become sustainable, at least for a few years.\\n\"If you look at the current cash flow of between 150 and 200 million pounds a year, what they can\\'t find (to meet the bill) they will roll forward into the stabilisation notes, and they can keep that going for seven, eight, nine years,\" said an analyst at one major investment bank.\\n\"So they are here for that time,\" he added.\\nThe company said in a statement there was still considerable work to be done to finalise and agree the details of the plan before it can be submitted to shareholders and the bank group for approval, probably early in the Spring of 1997.\\nEurotunnel said the debt-for-equity swap would be at 130 pence, or 10.40 francs, per share -- considerably below the level of 160 pence widely reported in the run up to the deal\\nThe company said a further 3.7 billion pounds of debt would be converted into new financial instruments and existing shareholders would be able to participate in this issue.\\nIf they choose not to take up free warrants entitling them to subscribe to this, Eurotunnel said shareholders\\' interests may be reduced further to just over 39 percent of the company by the end of December 2003.\\nEurotunnel\\'s shares, which were suspended last week at 113.5 pence ahead of Monday\\'s announcement, will resume trading on Tuesday.\\nShareholders and all 225 creditor banks have to agree the deal. \"I\\'m hopeful but I\\'m not taking it (approval) for granted,\" Morton admitted, \"Shareholders are pretty angry in France.\"\\nAsked what would happen if the banks reject the deal, Morton said, \"Nobody wants a collapse, nobody wants a doomsday scenario.\"\\n($1=.6393 Pound)\\n', './inputdata/100593newsML.txt': 'Anglo-French Channel Tunnel operator Eurotunnel Monday announced a deal giving its creditor banks 45.5 percent of the company in return for wiping out one billion pounds ($1.56 billion) of its debt.\\nThe long-awaited restructuring brings to an end months of wrangling between Eurotunnel and the 225 banks to which it owes nearly nine billion pounds ($14.1 billion).\\nThe deal, announced simultaneously in Paris and London, brings the company back from the brink of insolvency but leaves shareholders owning only 54.5 percent of the company.\\n\"The restructuring plan provides Eurotunnel with the medium-term financial stability to allow it to consolidate its substantial commercial achievements to date and to develop its operations,\" Eurotunnel co-chairman Alastair Morton said.\\nThe firm was now making a profit before interest, he added.\\nAlthough shareholders will see their interests diluted, they were offered the prospect of a brighter future after months of uncertainty while Eurotunnel wrestled to reduce crippling interest payments negotiated during the tunnel\\'s construction.\\nEurotunnel, which has taken around half the cross-Channel market from the European ferry companies, said a strong operating performance could allow it to pay its first dividend within the next 10 years.\\nFrench co-chairman Patrick Ponsolle said shareholders would have to be patient before they could reap the benefits of the company\\'s success.\\nHe called the debt restructuring plan \"an acceptable compromise\" for holders of Eurotunnel shares.\\nThe company said there was still considerable work to be done to finalise and agree on the details of the plan before it can be submitted to shareholders and the full 225 bank syndicate for approval, probably early in 1997.\\nMonday\\'s announcement followed two weeks of highly secretive negotiations between Eurotunnel and its six leading banks. This was extended to the 24 \"instructing banks\" at a meeting late last week in London.\\nEurotunnel said the debt-for-equity swap would be at 130 pence, or 10.40 francs, per share. That is considerably below the level of around 160 pence widely reported before announcement of the deal, and will reduce outstanding debt of 8.7 billion pounds ($13.6 billion) by 1.0 billion ($1.56 billion).\\nThe company said a further 3.7 billion pounds ($5.8 billion) of debt would be converted into new financial instruments and existing shareholders would be able to participate in this issue.\\nIf they choose not to take up free warrants entitling them to subscribe to this, Eurotunnel said shareholders\\' interests may be reduced further to just over 39 percent of the company by the end of December 2003.\\nEurotunnel\\'s shares, which were suspended last week at 113.5 pence ahead of Monday\\'s announcement, should resume trading on Tuesday, the company said.\\n', './inputdata/100618newsML.txt': 'Anglo-French Channel Tunnel operator Eurotunnel on Monday announced a deal giving creditor banks 45.5 percent of the company in return for wiping out one billion pounds ($1.56 billion) of its debt mountain.\\nThe long-awaited restructuring brings to an end months of wrangling between Eurotunnel and the 225 banks to which it owes nearly nine billion pounds.\\nThe deal, announced simultaneously in Paris and London, brings the company back from the brink of insolvency but leaves shareholders owning only 54.5 percent of the company.\\n\"The restructuring plan provides Eurotunnel with the medium term financial stability to allow it to consolidate its substantial commercial achievements to date and to develop its operations,\" Eurotunnel co-chairman Alastair Morton said.\\nThe firm was now making a profit before interest, he added.\\nAlthough shareholders will see their interests diluted, they were offered the prospect of a brighter future after months of uncertainty while Eurotunnel wrestled to reduce crippling interest payments negotiated during the tunnel\\'s construction.\\nEurotunnel, which has taken around half the cross-Channel market from the European ferry companies, said a strong operating performance could allow it to pay its first dividend within the next 10 years.\\nFrench co-chairman Patrick Ponsolle said shareholders would have to be patient before they could reap the benefits of the company\\'s success.\\nHe called the debt restructuring plan \"an acceptable compromise\" for holders of Eurotunnel shares.\\nThe company said in a statement there was still considerable work to be done to finalise and agree the details of the plan before it can be submitted to shareholders and the full 225 bank syndicate for approval, probably early in 1997.\\nMonday\\'s announcement followed two weeks of highly secretive negotiations between Eurotunnel and its six leading banks. This was extended to the 24 \"instructing banks\" at a meeting late last week in London.\\nEurotunnel said the debt-for-equity swap would be at 130 pence, or 10.40 francs, per share. That is considerably below the level of around 160 pence widely reported in the run up to the deal, and will reduce outstanding debt of 8.7 billion pounds by 1.0 billion.\\nThe company said a further 3.7 billion pounds of debt would be converted into new financial instruments and existing shareholders would be able to participate in this issue.\\nIf they choose not to take up free warrants entitling them to subscribe to this, Eurotunnel said shareholders\\' interests may be reduced further to just over 39 percent of the company by the end of December 2003.\\nEurotunnel\\'s shares, which were suspended last week at 113.5 pence ahead of Monday\\'s announcement, should resume trading on Tuesday, the company said. ($1=.6393 Pound)\\n', './inputdata/130040newsML.txt': 'Britain\\'s Barclays Plc said on Monday it was in talks with U.S. group Morgan Stanley about its global custody business and banking sources confirmed the unit is up for sale.\\nBarclays and Morgan Stanley were coy in responding to press speculation, saying only that they are \"in discussions to explore the potential for future co-operation\".\\nThe move would be another step in the consolidation of the global custody business which is becoming dominated by those banks who are willing to make the large front-end investment in systems which are necessary to later rake in fees.\\nBarclays\\' custody business has 350 to 400 staff worldwide, with some working in the Far East, but has for some time been treated as not in the bank\\'s core business.\\nSecurities worth some 150 billion pounds ($239.2 billion) have been placed with the unit.\\nIn its interim results, published in August, Barclays included custody in its \"Businesses in Transition\" category which includes restructuring businesses in France and the United States. The category including custody made a profit of 23 million pounds in the half-year to June 30.\\nThe report said, \"Businesses in Transition primarily comprises lendings and other assets that are unlikely to be of long-term interest to the Group or that require significant restructuring.\"\\nIt was not clear when the deal will be finalised but analysts said it would mark a further step in the consolidation of the global custody market.\\n\"Consolidation is a natural if you look at the economic of the business,\" said John Leonard, banking analyst at Salomon Brothers. \"It\\'s a scale economy buisiness.\"\\nLeonard said that some banks had taken the decision not to invest the large sums needed to get computer systems up to scratch to be competitive.\\nCustody businesses range from traditional safekeeping of securities, which in Britain is dominated by Lloyds TSB and Royal Bank of Scotland, to performance measurement and stock lending.\\nAs such, it has ceased to be the largely risk-free business it once was although risk levels are still relatively low.\\n\"It guarantees a steady income stream but it\\'s not totally insensitive to market volumes,\" Leonard added.\\nAnalysts said Barclays has presumably decided that without further investment, the business will be too small to compete on the global stage. They expect Morgan Stanley to pay well under 100 million pounds for the business. \"It could well be less than fifty million (pounds),\" said one.\\nFinance workers\\' union BIFU attacked the leak of the discussions, saying staff face an uncertain future if the business was sold.\\nIt called on the bank to \"come clean\" over its intentions. ($1=.6270 Pound)\\n', './inputdata/137871newsML.txt': 'Italian business tycoon Silvio Berlusconi on Wednesday lost an appeal in the London High Court against the transfer of documents to Italian authorities investigating allegations of fraud and false accounting.\\nBritain\\'s Serious Fraud Office seized 15 bags of documents in April from the office of London lawyer David Mills who represents the interests of former Italian Prime Minister Berlusconi in Britain.\\nThe judges, Lord Justice Simon Brown and Mr Justice Gage, rejected all the grounds of the appeal, but Brown agreed to hear an application by the appellants on Friday morning, which could lead to an appeal to the House of Lords, although legal sources said this was unlikely to succeed.\\nThe hearing stemmed from an appeal by Berlusconi, who was Italian Prime Minister for seven months in 1994 and is on trial in Milan on corruption charges, his company Fininvest and company president Fedele Confalonieri against a court ruling earlier this year that the papers should be sent to Italy.\\nBrown said the papers were linked to fraud and false accounting allegations amounting to 51 million pounds ($82 million) which had been \"surreptitiously removed from Fininvest and used for criminal purposes.\"\\nHe noted that prosecutions were already underway in Italy against Berlusconi for bribing Revenue inspectors and for making illicit donations to former Prime Minister Bettino Craxi.\\nItalian investigators suspect Berlusconi who, among other holdings, owns three TV channels and the football club AC Milan, may have used offshore companies to channel payments to politicians.\\nAt the end of his judgement Brown pointed out that, \"It is imperative to recognise, however, that none of the applicants has yet been convicted of anything and that nothing I have said should be thought to raise the least presumption of guilt against them.\"\\nHe rejected all the grounds of the appeal on the basis that the Italian request was not too wide, that it was justified and that the offences in question were not \"political\".\\nOne of the grounds of appeal had been that the SFO had gone to Berlusconi\\'s lawyer\\'s office on a \"fishing expedition\" -- an unspecific search -- which is illegal under English law.\\nBrown described the case as a \"wide-ranging, multi-faceted, international fraud involving far-reaching allegations against a large number of individuals in connection with an even larger number of companies.\"\\nThe SFO said it was \"happy\" with the ruling.\\n\"The SFO\\'s fight against fraud on an international level has been strengthened by this welcome judgement,\" it said in a statement.\\nThe SFO said the judges had rejected all of the main arguments put forward by the appellants. \"We look forward to the speedy transfer of the documents to Milan so that the investigators can get on with their job,\" it said.\\nA hearing on Friday will decide whether Berlusconi can appeal against today\\'s ruling to the British House of Lords.\\nSFO senior assistant director Chris Dickson said the judges in the current hearing were aware that, if any House of Lords hearing did not take place until next year, this would mean the papers would arrive too late to be used in Italian proceedings.\\nHe said that if the appellants were not given leave to appeal on Friday he expected the papers to be transferred immediately, although this was a decision for the Home Office.\\n($1=.6260 Pound)\\n'}\n"
     ]
    }
   ],
   "source": [
    "# Get document contents\n",
    "def create_docContentDict( filePaths ):\n",
    "    rawContentDict = {}\n",
    "    for filePath in filePaths:\n",
    "        with open(filePath, \"r\") as ifile:\n",
    "            fileContent = ifile.read()\n",
    "        rawContentDict[filePath] = fileContent\n",
    "    return rawContentDict\n",
    "rawContentDict = create_docContentDict( filePaths )\n",
    "print(rawContentDict)"
   ]
  },
  {
   "cell_type": "markdown",
   "metadata": {},
   "source": [
    "## Create Custom tokenizer"
   ]
  },
  {
   "cell_type": "markdown",
   "metadata": {},
   "source": [
    "### Define functions to use within the tokenizer\n",
    "We'd like to;\n",
    "- tokenize the input\n",
    "- remove stop words\n",
    "- perform stemming\n",
    "- remove punctuation\n",
    "- convert input to lowercase"
   ]
  },
  {
   "cell_type": "markdown",
   "metadata": {},
   "source": [
    "#### Tokenize"
   ]
  },
  {
   "cell_type": "code",
   "execution_count": 49,
   "metadata": {
    "collapsed": true
   },
   "outputs": [],
   "source": [
    "def tokenizeContent(contentsRaw):\n",
    "    tokenized = nltk.tokenize.word_tokenize(contentsRaw)\n",
    "    return tokenized"
   ]
  },
  {
   "cell_type": "markdown",
   "metadata": {},
   "source": [
    "#### Remove Stop words"
   ]
  },
  {
   "cell_type": "code",
   "execution_count": 50,
   "metadata": {
    "collapsed": true
   },
   "outputs": [],
   "source": [
    "def removeStopWordsFromTokenized(contentsTokenized):\n",
    "    stop_word_set = set(nltk.corpus.stopwords.words(\"english\"))\n",
    "    filteredContents = [ word for word in contentsTokenized if word not in stop_word_set ]\n",
    "    return filteredContents"
   ]
  },
  {
   "cell_type": "markdown",
   "metadata": {},
   "source": [
    "#### Stemming"
   ]
  },
  {
   "cell_type": "code",
   "execution_count": 51,
   "metadata": {
    "collapsed": true
   },
   "outputs": [],
   "source": [
    "def performPorterStemmingOnContents(contentsTokenized):\n",
    "    porterStemmer = nltk.stem.PorterStemmer()\n",
    "    filteredContents = [ porterStemmer.stem(word) for word in contentsTokenized ]\n",
    "    return filteredContents"
   ]
  },
  {
   "cell_type": "markdown",
   "metadata": {},
   "source": [
    "#### Remove Punctuation"
   ]
  },
  {
   "cell_type": "code",
   "execution_count": 52,
   "metadata": {
    "collapsed": true
   },
   "outputs": [],
   "source": [
    "def removePunctuationFromTokenized(contentsTokenized):\n",
    "    excludePuncuation = set(string.punctuation)\n",
    "    \n",
    "    # manually add additional punctuation to remove\n",
    "    doubleSingleQuote = '\\'\\''\n",
    "    doubleDash = '--'\n",
    "    doubleTick = '``'\n",
    "\n",
    "    excludePuncuation.add(doubleSingleQuote)\n",
    "    excludePuncuation.add(doubleDash)\n",
    "    excludePuncuation.add(doubleTick)\n",
    "\n",
    "    filteredContents = [ word for word in contentsTokenized if word not in excludePuncuation ]\n",
    "    return filteredContents"
   ]
  },
  {
   "cell_type": "markdown",
   "metadata": {},
   "source": [
    "#### Convert terms to lowercase"
   ]
  },
  {
   "cell_type": "code",
   "execution_count": 53,
   "metadata": {
    "collapsed": true
   },
   "outputs": [],
   "source": [
    "def convertItemsToLower(contentsRaw):\n",
    "    filteredContents = [ term.lower() for term in contentsRaw ]\n",
    "    return filteredContents"
   ]
  },
  {
   "cell_type": "markdown",
   "metadata": {},
   "source": [
    "### Test that functions are working as expected"
   ]
  },
  {
   "cell_type": "code",
   "execution_count": 47,
   "metadata": {},
   "outputs": [
    {
     "name": "stdout",
     "output_type": "stream",
     "text": [
      "Channel tunnel operator Eurotunnel on Monday announced details of a deal giving bank creditors 45.5 percent of the company in return for wiping out 1.0 billion pounds ($1.6 billion) of its massive debts.\n",
      "The long-awaited but highly complex restructuring of nearly nearly nine billion pounds of debt a\n"
     ]
    }
   ],
   "source": [
    "# get contents of a file for testing\n",
    "# TODO: may need to make a copy of this here\n",
    "content_test = rawContentDict[filePaths[0]]\n",
    "\n",
    "# visually inspect\n",
    "print(content_test[:300])"
   ]
  },
  {
   "cell_type": "code",
   "execution_count": 55,
   "metadata": {},
   "outputs": [
    {
     "ename": "NameError",
     "evalue": "name 'content_tokenized' is not defined",
     "output_type": "error",
     "traceback": [
      "\u001b[1;31m---------------------------------------------------------------------------\u001b[0m",
      "\u001b[1;31mNameError\u001b[0m                                 Traceback (most recent call last)",
      "\u001b[1;32m<ipython-input-55-22bf07c0db58>\u001b[0m in \u001b[0;36m<module>\u001b[1;34m()\u001b[0m\n\u001b[0;32m      3\u001b[0m \u001b[1;33m\u001b[0m\u001b[0m\n\u001b[0;32m      4\u001b[0m \u001b[1;31m# visually inspect\u001b[0m\u001b[1;33m\u001b[0m\u001b[1;33m\u001b[0m\u001b[0m\n\u001b[1;32m----> 5\u001b[1;33m \u001b[0mprint\u001b[0m\u001b[1;33m(\u001b[0m\u001b[0mcontent_tokenized\u001b[0m\u001b[1;33m[\u001b[0m\u001b[1;33m:\u001b[0m\u001b[1;36m10\u001b[0m\u001b[1;33m]\u001b[0m\u001b[1;33m)\u001b[0m\u001b[1;33m\u001b[0m\u001b[0m\n\u001b[0m",
      "\u001b[1;31mNameError\u001b[0m: name 'content_tokenized' is not defined"
     ]
    }
   ],
   "source": [
    "# test tokenization\n",
    "content_test_tokenized = tokenizeContent(content_test)\n",
    "\n",
    "# visually inspect\n",
    "print(content_test_tokenized[:30])"
   ]
  },
  {
   "cell_type": "code",
   "execution_count": null,
   "metadata": {
    "collapsed": true
   },
   "outputs": [],
   "source": [
    "# test remove stop words\n",
    "content_test_rmStop = removeStopWordsFromTokenized(content_test_tokenized)\n",
    "\n",
    "# visually inspect\n",
    "print(content_test_rmStop[:30])"
   ]
  },
  {
   "cell_type": "code",
   "execution_count": null,
   "metadata": {
    "collapsed": true
   },
   "outputs": [],
   "source": [
    "# Test stemming\n",
    "content_test_stemmed = performPorterStemmingOnContents(content_test_rmStop)\n",
    "\n",
    "# visually inspect\n",
    "print(content_test_stemmed[:30])"
   ]
  },
  {
   "cell_type": "code",
   "execution_count": null,
   "metadata": {
    "collapsed": true
   },
   "outputs": [],
   "source": [
    "# Test remove punctuation\n",
    "content_test_cleaned = removePunctuationFromTokenized(content_test_stemmed)\n",
    "\n",
    "# visually inspect\n",
    "print(content_test_cleaned[:30])"
   ]
  },
  {
   "cell_type": "code",
   "execution_count": null,
   "metadata": {
    "collapsed": true
   },
   "outputs": [],
   "source": [
    "# Test convert to lower\n",
    "content_test_clean_lower = convertItemsToLower(content_test_cleaned)\n",
    "print(content_test_clean_lower[:30])"
   ]
  },
  {
   "cell_type": "markdown",
   "metadata": {},
   "source": [
    "### Wrap into a function to be used by NLTK"
   ]
  },
  {
   "cell_type": "code",
   "execution_count": null,
   "metadata": {
    "collapsed": true
   },
   "outputs": [],
   "source": [
    "# process data without writing inspection file information to file\n",
    "def processData_inspect(rawContents):\n",
    "    cleaned = tokenizeContent(rawContents)\n",
    "    cleaned = removeStopWordsFromTokenized(cleaned)\n",
    "    cleaned = performPorterStemmingOnContents(cleaned)    \n",
    "    cleaned = removePunctuationFromTokenized(cleaned)\n",
    "    cleaned = convertItemsToLower(cleaned)\n",
    "    return cleaned"
   ]
  },
  {
   "cell_type": "markdown",
   "metadata": {},
   "source": [
    "## Calcuate TFIDF"
   ]
  },
  {
   "cell_type": "code",
   "execution_count": null,
   "metadata": {
    "collapsed": true
   },
   "outputs": [],
   "source": [
    "tfidf = TfidfVectorizer(tokenizer=processData_inspect, stop_words='english')\n",
    "tfs = tfidf.fit_transform( rawContentDict.values() )"
   ]
  },
  {
   "cell_type": "markdown",
   "metadata": {},
   "source": [
    "## Create Functions For Output\n",
    "- TFIDF\n",
    "- Cosine Similarity\n",
    "    - this function will both calcuate and output results"
   ]
  },
  {
   "cell_type": "code",
   "execution_count": 12,
   "metadata": {
    "collapsed": true
   },
   "outputs": [],
   "source": [
    "# print TFIDF values in 'table' format\n",
    "def print_TFIDF_for_all( term, values, fileNames ):\n",
    "    values = values.transpose() # files along 'x-axis', terms along 'y-axis'\n",
    "    numValues = len(values[0])\n",
    "    print('                ', end=\"\")   #bank space for formatting output\n",
    "    for n in range(len(fileNames)):\n",
    "        print('{0:18}'.format(fileNames[n]), end=\"\")    #file names\n",
    "    print()\n",
    "    for i in range(len(term)):\n",
    "        print('{0:8}'.format(term[i]), end='\\t|  ')     #the term\n",
    "        for j in range(numValues):\n",
    "            print( '{0:.12f}'.format(values[i][j]), end='   ' ) #the value, corresponding to the file name, for the term\n",
    "        print()"
   ]
  },
  {
   "cell_type": "code",
   "execution_count": 13,
   "metadata": {
    "collapsed": true
   },
   "outputs": [],
   "source": [
    "# write TFIDF values in 'table' format\n",
    "def write_TFIDF_for_all( term, values, fileNames ):\n",
    "    filePath = \"../results/tfid.txt\"\n",
    "    outFile = open(filePath, 'a')\n",
    "    title = \"TFIDF\\n\"\n",
    "    outFile.write(title)\n",
    "    values = values.transpose() # files along 'x-axis', terms along 'y-axis'\n",
    "    numValues = len(values[0])\n",
    "    outFile.write('               \\t')   #bank space for formatting output\n",
    "    for n in range(len(fileNames)):\n",
    "        outFile.write('{0:18}'.format(fileNames[n]))    #file names\n",
    "    outFile.write(\"\\n\")\n",
    "    for i in range(len(term)):\n",
    "        outFile.write('{0:15}'.format(term[i]))     #the term\n",
    "        outFile.write('\\t|  ')\n",
    "        for j in range(numValues):\n",
    "            outFile.write( '{0:.12f}'.format(values[i][j]) ) #the value, corresponding to the file name, for the term\n",
    "            outFile.write('   ')\n",
    "        outFile.write(\"\\n\")\n",
    "\n",
    "    outFile.close()"
   ]
  },
  {
   "cell_type": "code",
   "execution_count": 14,
   "metadata": {
    "collapsed": true
   },
   "outputs": [],
   "source": [
    "# TODO: should modify this to build matrix then print from matrix form\n",
    "def calc_and_print_CosineSimilarity_for_all( tfs, fileNames ):\n",
    "    #print(cosine_similarity(tfs[0], tfs[1]))\n",
    "    print(\"\\n\\n\\n========COSINE SIMILARITY====================================================================\\n\")\n",
    "    numFiles = len(fileNames)\n",
    "    names = []\n",
    "    print('                   ', end=\"\")    #formatting\n",
    "    for i in range(numFiles):\n",
    "        if i == 0:\n",
    "            for k in range(numFiles):\n",
    "                print(fileNames[k], end='   ')\n",
    "            print()\n",
    "\n",
    "        print(fileNames[i], end='   ')\n",
    "        for n in range(numFiles):\n",
    "            #print(fileNames[n], end='\\t')\n",
    "            matrixValue = cosine_similarity(tfs[i], tfs[n])\n",
    "            numValue = matrixValue[0][0]\n",
    "            #print(numValue, end='\\t')\n",
    "            names.append(fileNames[n])\n",
    "            print(\" {0:.8f}\".format(numValue), end='         ')\n",
    "            #(cosine_similarity(tfs[i], tfs[n]))[0][0]\n",
    "\n",
    "        print()\n",
    "    print(\"\\n\\n=============================================================================================\\n\")"
   ]
  },
  {
   "cell_type": "code",
   "execution_count": 15,
   "metadata": {
    "collapsed": true
   },
   "outputs": [],
   "source": [
    "def calc_and_write_CosineSimilarity_for_all( tfs, fileNames ):\n",
    "    filePath = \"../results/cosine_similarity.txt\"\n",
    "    outFile = open(filePath, 'a')\n",
    "    title = \"COSINE SIMILARITY\\n\"\n",
    "    outFile.write(title)\n",
    "    numFiles = len(fileNames)\n",
    "    names = []\n",
    "    outFile.write('                   ')\n",
    "    for i in range(numFiles):\n",
    "        if i == 0:\n",
    "            for k in range(numFiles):\n",
    "                outFile.write(fileNames[k])\n",
    "                outFile.write('   ')\n",
    "            outFile.write(\"\\n\")\n",
    "        outFile.write(fileNames[i])\n",
    "        outFile.write('   ')\n",
    "\n",
    "        for n in range(numFiles):\n",
    "            matrixValue = cosine_similarity(tfs[i], tfs[n])\n",
    "            numValue = matrixValue[0][0]\n",
    "            names.append(fileNames[n])\n",
    "            outFile.write('{0:.8f}'.format(numValue))\n",
    "            outFile.write('         ')\n",
    "            #(cosine_similarity(tfs[i], tfs[n]))[0][0]\n",
    "\n",
    "        outFile.write(\"\\n\")\n",
    "\n",
    "    outFile.close()"
   ]
  },
  {
   "cell_type": "markdown",
   "metadata": {},
   "source": [
    "## Wrap Everything into `Main()`"
   ]
  },
  {
   "cell_type": "code",
   "execution_count": 19,
   "metadata": {
    "collapsed": true
   },
   "outputs": [],
   "source": [
    "def main(printResults=True):\n",
    "    baseFolderPath = \"./inputdata/\"\n",
    "\n",
    "    fileNames, filePathList = returnListOfFilePaths( baseFolderPath )\n",
    "\n",
    "    rawContentDict = create_docContentDict( filePathList )\n",
    "\n",
    "    tfidf = TfidfVectorizer(tokenizer=processData, stop_words='english')\n",
    "    tfs = tfidf.fit_transform( rawContentDict.values() )\n",
    "\n",
    "    tfs_Values = tfs.toarray()\n",
    "    tfs_Term = tfidf.get_feature_names()\n",
    "    \n",
    "    if printResults:\n",
    "        # print results\n",
    "        print_TFIDF_for_all( tfs_Term, tfs_Values, fileNames )\n",
    "        calc_and_print_CosineSimilarity_for_all( tfs, fileNames )\n",
    "    else:\n",
    "        # write results to file\n",
    "        write_TFIDF_for_all( tfs_Term, tfs_Values, fileNames )   \n",
    "        calc_and_write_CosineSimilarity_for_all( tfs, fileNames )"
   ]
  },
  {
   "cell_type": "code",
   "execution_count": 21,
   "metadata": {},
   "outputs": [
    {
     "name": "stdout",
     "output_type": "stream",
     "text": [
      "showing info https://raw.githubusercontent.com/nltk/nltk_data/gh-pages/index.xml\n"
     ]
    },
    {
     "data": {
      "text/plain": [
       "True"
      ]
     },
     "execution_count": 21,
     "metadata": {},
     "output_type": "execute_result"
    }
   ],
   "source": [
    "nltk.download()"
   ]
  },
  {
   "cell_type": "code",
   "execution_count": null,
   "metadata": {
    "collapsed": true
   },
   "outputs": [],
   "source": [
    "main()"
   ]
  }
 ],
 "metadata": {
  "kernelspec": {
   "display_name": "Python 3",
   "language": "python",
   "name": "python3"
  },
  "language_info": {
   "codemirror_mode": {
    "name": "ipython",
    "version": 3
   },
   "file_extension": ".py",
   "mimetype": "text/x-python",
   "name": "python",
   "nbconvert_exporter": "python",
   "pygments_lexer": "ipython3",
   "version": "3.6.1"
  }
 },
 "nbformat": 4,
 "nbformat_minor": 2
}
